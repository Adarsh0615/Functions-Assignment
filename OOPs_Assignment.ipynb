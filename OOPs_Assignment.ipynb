{
  "nbformat": 4,
  "nbformat_minor": 0,
  "metadata": {
    "colab": {
      "provenance": []
    },
    "kernelspec": {
      "name": "python3",
      "display_name": "Python 3"
    },
    "language_info": {
      "name": "python"
    }
  },
  "cells": [
    {
      "cell_type": "markdown",
      "source": [
        "## OOPs Assignment ##\n"
      ],
      "metadata": {
        "id": "K8_7uGpSdlVP"
      }
    },
    {
      "cell_type": "markdown",
      "source": [
        "1. What is Object-Oriented Programming (OOP)?\n",
        "\n",
        " Ans :-  OOP is a programming paradigm that organizes software design around objects rather than functions or logic. Objects represent real-world entities and are instances of classes. OOP concepts include encapsulation, inheritance, abstraction, and polymorphism, which help improve modularity, reusability, and scalability of code.\n",
        "\n",
        "2. What is a class in OOP?\n",
        "\n",
        "Ans :- A class is a blueprint for creating objects. It defines attributes (data members) and methods (functions) that describe the behavior and state of the object.\n",
        "\n",
        "3. What is an object in OOP?\n",
        "\n",
        "Ans :- An object is an instance of a class that contains actual data and methods. It represents a real-world entity and can interact with other objects by calling methods and accessing attributes.\n",
        "\n",
        "\n",
        "4. What is the difference between abstraction and encapsulation?\n",
        "\n",
        "Ans :- Abstraction focuses on exposing essential features while hiding implementation details. It provides a simplified interface to users.\n",
        "Encapsulation binds data and methods together, restricting direct access to certain components to protect internal states.\n",
        "\n",
        "5. What are dunder methods in Python?\n",
        "\n",
        "Ans: - Dunder (double underscore) methods are special methods with __ before and after their names (e.g., __init__, __str__). They allow customization of class behavior, such as initialization, representation, and operator overloading.\n",
        "\n",
        "6. Explain the concept of inheritance in OOP.\n",
        "\n",
        "Ans :- Inheritance allows a class (child) to acquire attributes and methods from another class (parent). This promotes code reusability and enables hierarchical class relationships.\n",
        "\n",
        "7. What is polymorphism in OOP?\n",
        "\n",
        "Ans :-Polymorphism allows objects of different classes to respond to the same method in different ways. It lets one interface be used for a general class of actions, promoting flexibility and extensibility.\n",
        "\n",
        "8. How is encapsulation achieved in Python?\n",
        "\n",
        "Ans :- Encapsulation is achieved by making class attributes private (prefixing with __) or protected (prefixing with _). Accessor (get) and mutator (set) methods are used to manage attribute values.\n",
        "\n",
        "9. What is a constructor in Python?\n",
        "\n",
        "Ans :- A constructor is a special method __init__ that initializes an object when it is created. It sets initial values to object attributes.\n",
        "\n",
        "10. What are class and static methods in Python?\n",
        "\n",
        "Ans :- Class Method (@classmethod) works on class-level data and takes cls as its first parameter.\n",
        "Static Method (@staticmethod) works without accessing class or instance data, behaving like a regular function within a class.\n",
        "\n",
        "11. What is method overloading in Python?\n",
        "\n",
        "Ans :- Method overloading refers to defining multiple methods with the same name but different parameters. Python does not support true method overloading but can simulate it using default arguments or *args and **kwargs.\n",
        "\n",
        "12. What is method overriding in OOP?\n",
        "\n",
        "Ans ;- Method overriding occurs when a subclass provides a specific implementation for a method already defined in its parent class. The method in the child class replaces the parent class method when called.\n",
        "\n",
        "13. What is a property decorator in Python?\n",
        "\n",
        "Ans :- @property is a built-in decorator that allows class methods to be accessed like attributes. It is used to manage getters and setters more elegantly.\n",
        "\n",
        "14. Why is polymorphism important in OOP?\n",
        "\n",
        "Ans :- Polymorphism increases code flexibility and reusability by allowing the same method or interface to operate on objects of different types, enabling dynamic method invocation.\n",
        "\n",
        "15. What is an abstract class in Python?\n",
        "\n",
        "Ans :- An abstract class cannot be instantiated directly. It serves as a template for other classes and may contain abstract methods that subclasses must implement. Abstract classes are created using the ABC module.\n",
        "\n",
        "16. What are the advantages of OOP?\n",
        "\n",
        "Ans : - Modularity – Divides software into smaller, reusable components (classes).\n",
        "Code Reusability – Inherited methods reduce redundancy.\n",
        "Scalability – Easy to add new features without altering existing code.\n",
        "Security – Encapsulation protects sensitive data.\n",
        "\n",
        "17. What is the difference between a class variable and an instance variable?\n",
        "\n",
        "Ans :- Class Variable – Shared across all instances of a class.\n",
        "Instance Variable – Unique to each object, specific to that instance.\n",
        "\n",
        "18. What is multiple inheritance in Python?\n",
        "\n",
        "Ans :- A class can inherit from more than one parent class, gaining attributes and methods from all. This allows complex relationships but may lead to ambiguity in method resolution.\n",
        "\n",
        "19. Explain the purpose of __str__ and __repr__ methods in Python.\n",
        "\n",
        "Ans:-  __str__ – Returns a human-readable string representation of an object (used by print()).\n",
        "__repr__ – Returns a developer-friendly string representation, helpful for debugging.\n",
        "\n",
        "20. What is the significance of the super() function in Python?\n",
        "\n",
        "Ans :- super() calls a method from the parent class, enabling access to inherited methods, and supporting method overriding in subclasses.\n",
        "\n",
        "21. What is the significance of the __del__ method in Python?\n",
        "\n",
        "Ans__del__ is the destructor method that gets called when an object is deleted or garbage collected. It is used to release resources or perform cleanup.\n",
        "\n",
        "22. What is the difference between @staticmethod and @classmethod in Python?\n",
        "\n",
        "\n",
        "Ans :- @staticmethod – No access to class or instance variables, operates independently.\n",
        "@classmethod – Accesses class variables and methods, takes cls as the first argument.\n",
        "\n",
        "23. How does polymorphism work in Python with inheritance?\n",
        "Ans :- Polymorphism allows child classes to override parent methods. When a method is called on a parent class reference, the child class method executes if it exists, demonstrating runtime polymorphism.\n",
        "\n",
        "24. What is method chaining in Python OOP?\n",
        "Ans :- Method chaining allows multiple methods to be called on the same object consecutively by returning self at the end of each method.\n",
        "\n",
        "25. What is the purpose of the __call__ method in Python?\n",
        "\n",
        "Ans : -     __call__ allows an object to be called as if it were a function. Defining\n",
        "\n",
        " __call__ in a class enables instances to act like callable objects."
      ],
      "metadata": {
        "id": "KSxcHqnydurR"
      }
    },
    {
      "cell_type": "markdown",
      "source": [
        "## PRACTICAL QUESTIONS##"
      ],
      "metadata": {
        "id": "owLgQCU2gQvc"
      }
    },
    {
      "cell_type": "markdown",
      "source": [
        "1. Create a parent class Animal with a method speak() that prints a generic message. Create a child class Dog that overrides the speak() method to print \"Bark!\".\n",
        "\n",
        "Ans :-"
      ],
      "metadata": {
        "id": "8Tms2WGpgaqY"
      }
    },
    {
      "cell_type": "code",
      "source": [
        "class Animal:\n",
        "    def speak(self):\n",
        "        print(\"Animal speaks\")\n",
        "\n",
        "class Dog(Animal):\n",
        "    def speak(self):\n",
        "        print(\"Bark!\")\n",
        "\n",
        "# Example\n",
        "a = Animal()\n",
        "a.speak()\n",
        "d = Dog()\n",
        "d.speak()"
      ],
      "metadata": {
        "colab": {
          "base_uri": "https://localhost:8080/"
        },
        "id": "HpzJXqAKLeiS",
        "outputId": "1b0a0cf9-c0ec-4fc8-8c7c-8c9fd62e4b80"
      },
      "execution_count": 1,
      "outputs": [
        {
          "output_type": "stream",
          "name": "stdout",
          "text": [
            "Animal speaks\n",
            "Bark!\n"
          ]
        }
      ]
    },
    {
      "cell_type": "markdown",
      "source": [
        "2. Write a program to create an abstract class Shape with a method area(). Derive classes Circle and Rectangle from it and implement the area() method in both.\n",
        "\n",
        "Ans :-"
      ],
      "metadata": {
        "id": "WyEpg09lLpjo"
      }
    },
    {
      "cell_type": "code",
      "source": [
        "from abc import ABC, abstractmethod\n",
        "import math\n",
        "\n",
        "class Shape(ABC):\n",
        "    @abstractmethod\n",
        "    def area(self):\n",
        "        pass\n",
        "\n",
        "class Circle(Shape):\n",
        "    def __init__(self, radius):\n",
        "        self.radius = radius\n",
        "\n",
        "    def area(self):\n",
        "        return math.pi * self.radius ** 2\n",
        "\n",
        "class Rectangle(Shape):\n",
        "    def __init__(self, width, height):\n",
        "        self.width = width\n",
        "        self.height = height\n",
        "\n",
        "    def area(self):\n",
        "        return self.width * self.height\n",
        "\n",
        "# Example\n",
        "c = Circle(5)\n",
        "r = Rectangle(4, 6)\n",
        "print(c.area())\n",
        "print(r.area())\n"
      ],
      "metadata": {
        "colab": {
          "base_uri": "https://localhost:8080/"
        },
        "id": "7vdolzz7LxCP",
        "outputId": "561ee9c9-76f8-4aad-d600-4db187ac741c"
      },
      "execution_count": 2,
      "outputs": [
        {
          "output_type": "stream",
          "name": "stdout",
          "text": [
            "78.53981633974483\n",
            "24\n"
          ]
        }
      ]
    },
    {
      "cell_type": "markdown",
      "source": [
        "3. Implement a multi-level inheritance scenario where a class Vehicle has an attribute type. Derive a class Car and further derive a class ElectricCar that adds a battery attribute.\n",
        "\n",
        "Ans :-"
      ],
      "metadata": {
        "id": "UdMGBWSFL0Tl"
      }
    },
    {
      "cell_type": "code",
      "source": [
        "class Vehicle:\n",
        "    def __init__(self, type):\n",
        "        self.type = type\n",
        "\n",
        "class Car(Vehicle):\n",
        "    def __init__(self, type, brand):\n",
        "        super().__init__(type)\n",
        "        self.brand = brand\n",
        "\n",
        "class ElectricCar(Car):\n",
        "    def __init__(self, type, brand, battery):\n",
        "        super().__init__(type, brand)\n",
        "        self.battery = battery\n",
        "\n",
        "# Example\n",
        "ec = ElectricCar(\"Sedan\", \"Tesla\", \"100 kWh\")\n",
        "print(ec.type, ec.brand, ec.battery)\n"
      ],
      "metadata": {
        "colab": {
          "base_uri": "https://localhost:8080/"
        },
        "id": "s8YXLgs0L-Lc",
        "outputId": "097dff2f-99c5-4b80-cac6-efdc0ff7f20a"
      },
      "execution_count": 3,
      "outputs": [
        {
          "output_type": "stream",
          "name": "stdout",
          "text": [
            "Sedan Tesla 100 kWh\n"
          ]
        }
      ]
    },
    {
      "cell_type": "markdown",
      "source": [
        "4. Implement a class BankAccount with private attributes balance and methods to deposit, withdraw, and check balance.\n",
        "\n",
        "Ans :-"
      ],
      "metadata": {
        "id": "TP3onkMIMCFo"
      }
    },
    {
      "cell_type": "code",
      "source": [
        "class BankAccount:\n",
        "    def __init__(self):\n",
        "        self.__balance = 0\n",
        "\n",
        "    def deposit(self, amount):\n",
        "        self.__balance += amount\n",
        "\n",
        "    def withdraw(self, amount):\n",
        "        if amount <= self.__balance:\n",
        "            self.__balance -= amount\n",
        "        else:\n",
        "            print(\"Insufficient funds\")\n",
        "\n",
        "    def get_balance(self):\n",
        "        return self.__balance\n",
        "\n",
        "# Example\n",
        "account = BankAccount()\n",
        "account.deposit(100)\n",
        "account.withdraw(30)\n",
        "print(account.get_balance())\n"
      ],
      "metadata": {
        "colab": {
          "base_uri": "https://localhost:8080/"
        },
        "id": "9lwsZ0rNML3a",
        "outputId": "c6a0ab56-2f75-4ba5-e43a-b6c0675877f6"
      },
      "execution_count": 4,
      "outputs": [
        {
          "output_type": "stream",
          "name": "stdout",
          "text": [
            "70\n"
          ]
        }
      ]
    },
    {
      "cell_type": "markdown",
      "source": [
        "5. Demonstrate runtime polymorphism using a method play() in a base class Instrument. Derive classes Guitar and Piano that implement their own version of play().\n",
        "\n",
        "Ans :-"
      ],
      "metadata": {
        "id": "pm4IBXrwMOsJ"
      }
    },
    {
      "cell_type": "code",
      "source": [
        "class Instrument:\n",
        "    def play(self):\n",
        "        print(\"Instrument is playing\")\n",
        "\n",
        "class Guitar(Instrument):\n",
        "    def play(self):\n",
        "        print(\"Strumming the guitar\")\n",
        "\n",
        "class Piano(Instrument):\n",
        "    def play(self):\n",
        "        print(\"Playing the piano\")\n",
        "\n",
        "# Example\n",
        "instruments = [Guitar(), Piano()]\n",
        "for instrument in instruments:\n",
        "    instrument.play()\n"
      ],
      "metadata": {
        "colab": {
          "base_uri": "https://localhost:8080/"
        },
        "id": "vXnjf1C_MVtG",
        "outputId": "175cee58-effd-4231-d173-7aff552eea63"
      },
      "execution_count": 5,
      "outputs": [
        {
          "output_type": "stream",
          "name": "stdout",
          "text": [
            "Strumming the guitar\n",
            "Playing the piano\n"
          ]
        }
      ]
    },
    {
      "cell_type": "markdown",
      "source": [
        "6. Create a class MathOperations with a class method add_numbers() to add two numbers and a static method subtract_numbers() to subtract two numbers.\n",
        "\n",
        "Ans :-"
      ],
      "metadata": {
        "id": "N-tZNf-wMbDo"
      }
    },
    {
      "cell_type": "code",
      "source": [
        "class MathOperations:\n",
        "    @classmethod\n",
        "    def add_numbers(cls, a, b):\n",
        "        return a + b\n",
        "\n",
        "    @staticmethod\n",
        "    def subtract_numbers(a, b):\n",
        "        return a - b\n",
        "\n",
        "# Example\n",
        "print(MathOperations.add_numbers(10, 5))\n",
        "print(MathOperations.subtract_numbers(10, 5))\n"
      ],
      "metadata": {
        "colab": {
          "base_uri": "https://localhost:8080/"
        },
        "id": "qybTlASVMgvI",
        "outputId": "b469a12e-8216-4d6d-dfdd-5f7aebfd85e2"
      },
      "execution_count": 6,
      "outputs": [
        {
          "output_type": "stream",
          "name": "stdout",
          "text": [
            "15\n",
            "5\n"
          ]
        }
      ]
    },
    {
      "cell_type": "markdown",
      "source": [
        "7. Implement a class Person with a class method to count the total number of persons created.\n",
        "\n",
        "Ans :-"
      ],
      "metadata": {
        "id": "s05o90P5Miyl"
      }
    },
    {
      "cell_type": "code",
      "source": [
        "class Person:\n",
        "    count = 0\n",
        "\n",
        "    def __init__(self):\n",
        "        Person.count += 1\n",
        "\n",
        "    @classmethod\n",
        "    def total_persons(cls):\n",
        "        return cls.count\n",
        "\n",
        "# Example\n",
        "p1 = Person()\n",
        "p2 = Person()\n",
        "print(Person.total_persons())\n"
      ],
      "metadata": {
        "colab": {
          "base_uri": "https://localhost:8080/"
        },
        "id": "ff7fYG79MpBj",
        "outputId": "46887c42-82c6-422b-bacf-a6a522959ead"
      },
      "execution_count": 7,
      "outputs": [
        {
          "output_type": "stream",
          "name": "stdout",
          "text": [
            "2\n"
          ]
        }
      ]
    },
    {
      "cell_type": "markdown",
      "source": [
        "8. Write a class Fraction with attributes numerator and denominator. Override the str method to display the fraction as \"numerator/denominator\".\n",
        "\n",
        "Ans :-"
      ],
      "metadata": {
        "id": "xn8TO0wVMr2d"
      }
    },
    {
      "cell_type": "code",
      "source": [
        "class Fraction:\n",
        "    def __init__(self, numerator, denominator):\n",
        "        self.numerator = numerator\n",
        "        self.denominator = denominator\n",
        "\n",
        "    def __str__(self):\n",
        "        return f\"{self.numerator}/{self.denominator}\"\n",
        "\n",
        "# Example\n",
        "f = Fraction(3, 4)\n",
        "print(f)\n"
      ],
      "metadata": {
        "colab": {
          "base_uri": "https://localhost:8080/"
        },
        "id": "6zGNfXWSMxT6",
        "outputId": "0fd294d6-7eb0-444b-977d-3ab85f169c64"
      },
      "execution_count": 8,
      "outputs": [
        {
          "output_type": "stream",
          "name": "stdout",
          "text": [
            "3/4\n"
          ]
        }
      ]
    },
    {
      "cell_type": "markdown",
      "source": [
        "9. Demonstrate operator overloading by creating a class Vector and overriding the add method to add two vectors.\n",
        "\n",
        "Ans :-"
      ],
      "metadata": {
        "id": "FzOrIyTYM0Dh"
      }
    },
    {
      "cell_type": "code",
      "source": [
        "class Vector:\n",
        "    def __init__(self, x, y):\n",
        "        self.x = x\n",
        "        self.y = y\n",
        "\n",
        "    def __add__(self, other):\n",
        "        return Vector(self.x + other.x, self.y + other.y)\n",
        "\n",
        "    def __str__(self):\n",
        "        return f\"({self.x}, {self.y})\"\n",
        "\n",
        "# Example\n",
        "v1 = Vector(1, 2)\n",
        "v2 = Vector(3, 4)\n",
        "print(v1 + v2)\n"
      ],
      "metadata": {
        "colab": {
          "base_uri": "https://localhost:8080/"
        },
        "id": "An66yk3dM6FH",
        "outputId": "4a3dc9d8-4154-46c5-db42-ad25493f3c53"
      },
      "execution_count": 9,
      "outputs": [
        {
          "output_type": "stream",
          "name": "stdout",
          "text": [
            "(4, 6)\n"
          ]
        }
      ]
    },
    {
      "cell_type": "markdown",
      "source": [
        "10. Demonstrate operator overloading by creating a class Vector and overriding the add method to add two\n",
        "vectors.\n",
        "\n",
        "Ans :-"
      ],
      "metadata": {
        "id": "aYmCLaK4M9Fp"
      }
    },
    {
      "cell_type": "code",
      "source": [
        "class Vector:\n",
        "    def __init__(self, x, y):\n",
        "        self.x = x\n",
        "        self.y = y\n",
        "\n",
        "    # Overloading the + operator\n",
        "    def __add__(self, other):\n",
        "        return Vector(self.x + other.x, self.y + other.y)\n",
        "\n",
        "    def __str__(self):\n",
        "        return f\"({self.x}, {self.y})\"\n",
        "\n",
        "# Example\n",
        "v1 = Vector(3, 4)\n",
        "v2 = Vector(1, 2)\n",
        "\n",
        "v3 = v1 + v2  # This will call the __add__ method\n",
        "print(v3)  # Output: (4, 6)\n"
      ],
      "metadata": {
        "colab": {
          "base_uri": "https://localhost:8080/"
        },
        "id": "9IiH7pvBNi5p",
        "outputId": "ba61f51c-b58c-45ec-93db-f80ae66b6c78"
      },
      "execution_count": 10,
      "outputs": [
        {
          "output_type": "stream",
          "name": "stdout",
          "text": [
            "(4, 6)\n"
          ]
        }
      ]
    },
    {
      "cell_type": "markdown",
      "source": [
        "11. Create a class Person with attributes name and age. Add a method greet() that prints \"Hello, my name is {name} and I am {age} years old.\"\n",
        "\n",
        "Ans :-"
      ],
      "metadata": {
        "id": "wHMF5ygmNmLz"
      }
    },
    {
      "cell_type": "code",
      "source": [
        "class Person:\n",
        "    def __init__(self, name, age):\n",
        "        self.name = name\n",
        "        self.age = age\n",
        "\n",
        "    def greet(self):\n",
        "        print(f\"Hello, my name is {self.name} and I am {self.age} years old.\")\n",
        "\n",
        "# Example\n",
        "p = Person(\"John\", 30)\n",
        "p.greet()\n"
      ],
      "metadata": {
        "colab": {
          "base_uri": "https://localhost:8080/"
        },
        "id": "GhU4VrYrNrna",
        "outputId": "749ab499-a8fc-47cd-ce18-ed8b2ead30a0"
      },
      "execution_count": 11,
      "outputs": [
        {
          "output_type": "stream",
          "name": "stdout",
          "text": [
            "Hello, my name is John and I am 30 years old.\n"
          ]
        }
      ]
    },
    {
      "cell_type": "markdown",
      "source": [
        "12. Implement a class Student with attributes name and grades. Create a method average_grade() to compute the average of the grades.\n",
        "\n",
        "Ans :-"
      ],
      "metadata": {
        "id": "zzWZpfsPNuDb"
      }
    },
    {
      "cell_type": "code",
      "source": [
        "class Student:\n",
        "    def __init__(self, name, grades):\n",
        "        self.name = name\n",
        "        self.grades = grades\n",
        "\n",
        "    def average_grade(self):\n",
        "        return sum(self.grades) / len(self.grades)\n",
        "\n",
        "# Example\n",
        "s = Student(\"Alice\", [85, 90, 78])\n",
        "print(s.average_grade())\n"
      ],
      "metadata": {
        "colab": {
          "base_uri": "https://localhost:8080/"
        },
        "id": "uiAS4KcrN1pp",
        "outputId": "df739d03-80fa-49c9-c52b-c940f30ddc3c"
      },
      "execution_count": 12,
      "outputs": [
        {
          "output_type": "stream",
          "name": "stdout",
          "text": [
            "84.33333333333333\n"
          ]
        }
      ]
    },
    {
      "cell_type": "markdown",
      "source": [
        "13. Create a class Rectangle with methods set_dimensions() to set the dimensions and area() to calculate the area.\n",
        "\n",
        "Ans :-"
      ],
      "metadata": {
        "id": "UrnMQxoQN3Rh"
      }
    },
    {
      "cell_type": "code",
      "source": [
        "class Rectangle:\n",
        "    def set_dimensions(self, width, height):\n",
        "        self.width = width\n",
        "        self.height = height\n",
        "\n",
        "    def area(self):\n",
        "        return self.width * self.height\n",
        "\n",
        "# Example\n",
        "r = Rectangle()\n",
        "r.set_dimensions(4, 5)\n",
        "print(r.area())\n"
      ],
      "metadata": {
        "colab": {
          "base_uri": "https://localhost:8080/"
        },
        "id": "-QPycHC-N8n_",
        "outputId": "906ca03f-f23e-443f-be22-9e32b0c67319"
      },
      "execution_count": 13,
      "outputs": [
        {
          "output_type": "stream",
          "name": "stdout",
          "text": [
            "20\n"
          ]
        }
      ]
    },
    {
      "cell_type": "markdown",
      "source": [
        "14. Create a class Employee with a method calculate_salary() that computes the salary based on hours worked and hourly rate. Create a derived class Manager that adds a bonus to the salary.\n",
        "\n",
        "Ans :-"
      ],
      "metadata": {
        "id": "VPaJ6adHN_Ib"
      }
    },
    {
      "cell_type": "code",
      "source": [
        "class Employee:\n",
        "    def __init__(self, hours_worked, hourly_rate):\n",
        "        self.hours_worked = hours_worked\n",
        "        self.hourly_rate = hourly_rate\n",
        "\n",
        "    def calculate_salary(self):\n",
        "        return self.hours_worked * self.hourly_rate\n",
        "\n",
        "class Manager(Employee):\n",
        "    def __init__(self, hours_worked, hourly_rate, bonus):\n",
        "        super().__init__(hours_worked, hourly_rate)\n",
        "        self.bonus = bonus\n",
        "\n",
        "    def calculate_salary(self):\n",
        "        return super().calculate_salary() + self.bonus\n",
        "\n",
        "# Example\n",
        "m = Manager(40, 50, 500)\n",
        "print(m.calculate_salary())\n"
      ],
      "metadata": {
        "colab": {
          "base_uri": "https://localhost:8080/"
        },
        "id": "pyWhUauBODtF",
        "outputId": "bb118b25-b7f1-45b1-ef4e-ee1c72bbb974"
      },
      "execution_count": 14,
      "outputs": [
        {
          "output_type": "stream",
          "name": "stdout",
          "text": [
            "2500\n"
          ]
        }
      ]
    },
    {
      "cell_type": "markdown",
      "source": [
        "15. Create a class Product with attributes name, price, and quantity. Implement a method total_price() that calculates the total price of the product.\n",
        "\n",
        "Ans :-"
      ],
      "metadata": {
        "id": "Z2EmlHQMOGIR"
      }
    },
    {
      "cell_type": "code",
      "source": [
        "class Product:\n",
        "    def __init__(self, name, price, quantity):\n",
        "        self.name = name\n",
        "        self.price = price\n",
        "        self.quantity = quantity\n",
        "\n",
        "    def total_price(self):\n",
        "        return self.price * self.quantity\n",
        "\n",
        "# Example\n",
        "p = Product(\"Laptop\", 1000, 3)\n",
        "print(p.total_price())"
      ],
      "metadata": {
        "colab": {
          "base_uri": "https://localhost:8080/"
        },
        "id": "TqOPsujHOLMQ",
        "outputId": "881988d3-2c08-4c03-cd4a-8ed661e77074"
      },
      "execution_count": 15,
      "outputs": [
        {
          "output_type": "stream",
          "name": "stdout",
          "text": [
            "3000\n"
          ]
        }
      ]
    },
    {
      "cell_type": "markdown",
      "source": [
        "16. Create a class Animal with an abstract method sound(). Create two derived classes Cow and Sheep that implement the sound() method.\n",
        "\n",
        "Ans :-"
      ],
      "metadata": {
        "id": "kfXsHfQJON2s"
      }
    },
    {
      "cell_type": "code",
      "source": [
        "from abc import ABC, abstractmethod\n",
        "\n",
        "class Animal(ABC):\n",
        "    @abstractmethod\n",
        "    def sound(self):\n",
        "        pass\n",
        "\n",
        "class Cow(Animal):\n",
        "    def sound(self):\n",
        "        print(\"Moo\")\n",
        "\n",
        "class Sheep(Animal):\n",
        "    def sound(self):\n",
        "        print(\"Baa\")\n",
        "\n",
        "# Example\n",
        "c = Cow()\n",
        "s = Sheep()\n",
        "c.sound()\n",
        "s.sound()\n"
      ],
      "metadata": {
        "colab": {
          "base_uri": "https://localhost:8080/"
        },
        "id": "5vVnvsNbOS1l",
        "outputId": "ab27517e-b537-4b3e-c3a9-6ab49ad2e5c5"
      },
      "execution_count": 16,
      "outputs": [
        {
          "output_type": "stream",
          "name": "stdout",
          "text": [
            "Moo\n",
            "Baa\n"
          ]
        }
      ]
    },
    {
      "cell_type": "markdown",
      "source": [
        "17. Create a class Book with attributes title, author, and year_published. Add a method get_book_info() that returns a formatted string with the book's details.\n",
        "\n",
        "Ans :-"
      ],
      "metadata": {
        "id": "Qb4q5tSiOUHT"
      }
    },
    {
      "cell_type": "code",
      "source": [
        "class Book:\n",
        "    def __init__(self, title, author, year_published):\n",
        "        self.title = title\n",
        "        self.author = author\n",
        "        self.year_published = year_published\n",
        "\n",
        "    def get_book_info(self):\n",
        "        return f\"{self.title} by {self.author}, published in {self.year_published}\"\n",
        "\n",
        "# Example\n",
        "b = Book(\"1984\", \"George Orwell\", 1949)\n",
        "print(b.get_book_info())\n"
      ],
      "metadata": {
        "colab": {
          "base_uri": "https://localhost:8080/"
        },
        "id": "o3CO6MQxOYiJ",
        "outputId": "453c4a0f-d5cf-47c8-fada-0a956657dc7a"
      },
      "execution_count": 17,
      "outputs": [
        {
          "output_type": "stream",
          "name": "stdout",
          "text": [
            "1984 by George Orwell, published in 1949\n"
          ]
        }
      ]
    },
    {
      "cell_type": "markdown",
      "source": [
        "18. Create a class House with attributes address and price. Create a derived class Mansion that adds an attribute number_of_rooms.\n",
        "\n",
        "Ans :-"
      ],
      "metadata": {
        "id": "gPJDB5HXOal3"
      }
    },
    {
      "cell_type": "code",
      "source": [
        "class House:\n",
        "    def __init__(self, address, price):\n",
        "        self.address = address\n",
        "        self.price = price\n",
        "\n",
        "class Mansion(House):\n",
        "    def __init__(self, address, price, number_of_rooms):\n",
        "        super().__init__(address, price)\n",
        "        self.number_of_rooms = number_of_rooms\n",
        "\n",
        "# Example\n",
        "m = Mansion(\"123 St\", 1000000, 12)\n",
        "print(m.address, m.price, m.number_of_rooms)\n"
      ],
      "metadata": {
        "colab": {
          "base_uri": "https://localhost:8080/"
        },
        "id": "prfjHNZUOePi",
        "outputId": "854614ec-6e26-412c-ee97-c96dc479c585"
      },
      "execution_count": 18,
      "outputs": [
        {
          "output_type": "stream",
          "name": "stdout",
          "text": [
            "123 St 1000000 12\n"
          ]
        }
      ]
    }
  ]
}